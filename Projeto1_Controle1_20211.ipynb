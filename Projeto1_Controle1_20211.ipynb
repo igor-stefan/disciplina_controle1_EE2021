{
  "nbformat": 4,
  "nbformat_minor": 0,
  "metadata": {
    "colab": {
      "name": "Projeto1_Controle1_20211.ipynb",
      "provenance": [],
      "collapsed_sections": [],
      "include_colab_link": true
    },
    "kernelspec": {
      "name": "python3",
      "display_name": "Python 3"
    },
    "language_info": {
      "name": "python"
    }
  },
  "cells": [
    {
      "cell_type": "markdown",
      "metadata": {
        "id": "view-in-github",
        "colab_type": "text"
      },
      "source": [
        "<a href=\"https://colab.research.google.com/github/igor-stefan/disciplina_controle1_EE2021/blob/main/Projeto1_Controle1_20211.ipynb\" target=\"_parent\"><img src=\"https://colab.research.google.com/assets/colab-badge.svg\" alt=\"Open In Colab\"/></a>"
      ]
    },
    {
      "cell_type": "markdown",
      "metadata": {
        "id": "CTKak5A2zoEH"
      },
      "source": [
        "#Bibliotecas necessárias"
      ]
    },
    {
      "cell_type": "code",
      "metadata": {
        "id": "Qx_jmg7ofEnS"
      },
      "source": [
        "!pip install control #comando para instalar a biblioteca control\n",
        "import numpy as np #para trabalhar com números e funções entre números\n",
        "import matplotlib.pyplot as plt #para gerar gráficos\n",
        "import control as co #para utilizar as ferramentas de sistemas de controle\n",
        "import scipy.signal as sps #para calcular o resíduo"
      ],
      "execution_count": null,
      "outputs": []
    },
    {
      "cell_type": "markdown",
      "metadata": {
        "id": "lg52bzYmzvK1"
      },
      "source": [
        "#Definindo a função de transferência"
      ]
    },
    {
      "cell_type": "code",
      "metadata": {
        "colab": {
          "base_uri": "https://localhost:8080/"
        },
        "id": "L6jVlJlegwYZ",
        "outputId": "10d9ea99-bfc3-4661-a100-2b1616c875f5"
      },
      "source": [
        "num = [-10, 0]; #coeficientes do numerador\n",
        "den = [1, 3, 2]; #coeficientes do denominador\n",
        "G1 = co.tf(num, den); #G1 armazena a função de transfrência do sistema\n",
        "print(\"Função de transferência => \", G1); #mostra a função de transferência\n",
        "[FP, R, K] = sps.residue(num, den); #calcula o resíduo da função de transferência e armazena em \"FP\"\n",
        "print(\"Coeficientes frações parciais => \", FP); #mostra os resíduos"
      ],
      "execution_count": null,
      "outputs": [
        {
          "output_type": "stream",
          "text": [
            "Função de transferência =>  \n",
            "    -10 s\n",
            "-------------\n",
            "s^2 + 3 s + 2\n",
            "\n",
            "Coeficientes frações parciais =>  [ 10. -20.]\n"
          ],
          "name": "stdout"
        }
      ]
    },
    {
      "cell_type": "markdown",
      "metadata": {
        "id": "TlXHMgWLzWcr"
      },
      "source": [
        "#Resposta ao impulso no tempo\n",
        "\n",
        "\n"
      ]
    },
    {
      "cell_type": "code",
      "metadata": {
        "colab": {
          "base_uri": "https://localhost:8080/",
          "height": 304
        },
        "id": "vDKFz3RpwZfp",
        "outputId": "9748f448-b6c9-4edb-d01f-897fbe533882"
      },
      "source": [
        "t = np.linspace(0, 10, 1000) #cria um vetor t para a simulação com 1000 números entre [0 10[\n",
        "t1, y1 = co.impulse_response(G1, t) #computa a resposta ao impulso (é passado como argumento o sistema e vetor para a simulação)\n",
        "# a função de simulação retorna t1 que são os valores no eixo do tempo e y1 referente à amplitude\n",
        "plt.plot(t1,y1, lw=3) #plota o gráfico\n",
        "plt.title('Resposta ao impulso', pad = 15) #define o título com uma pequena margem do gráfico\n",
        "plt.ylim(min(y1) - 2, max(y1) + 2) #configura limites de exibição para o eixo das ordenadas\n",
        "plt.xlim(min(t1) - 1, max(t1) + 1) #configura limites de exibição para o eixo das abscissas\n",
        "plt.xlabel('Tempo (s)', labelpad=4) #atribui nome ao eixo das abscissas\n",
        "plt.ylabel('Amplitude (V)', labelpad=4) #atribui nome ao eixo das ordenads\n",
        "plt.grid(1) #cria as linhas claras ao fundo"
      ],
      "execution_count": null,
      "outputs": [
        {
          "output_type": "display_data",
          "data": {
            "image/png": "[encoded data removed]",
            "text/plain": [
              "<Figure size 432x288 with 1 Axes>"
            ]
          },
          "metadata": {
            "tags": [],
            "needs_background": "light"
          }
        }
      ]
    },
    {
      "cell_type": "markdown",
      "metadata": {
        "id": "cGaMp24uz0_p"
      },
      "source": [
        "#Diagrama de pólos e zeros"
      ]
    },
    {
      "cell_type": "code",
      "metadata": {
        "colab": {
          "base_uri": "https://localhost:8080/",
          "height": 334
        },
        "id": "a3aO3ucSnHjU",
        "outputId": "10f9bec4-3c35-45f3-e9dc-5d2d5942fbac"
      },
      "source": [
        "polos, zeros = co.pzmap(G1) #função computa os pólos e zeros\n",
        "print(\"Polos =\", polos); #exibe os pólos retornados pela função\n",
        "print(\"Zeros =\", zeros); #exibe os zeros retornados pela função\n",
        "plt.title(\"Diagrama de pólos e zeros\", pad = 10) #adiciona título ao gráfico\n",
        "plt.ylim(-1, 1); #configura limites de exibição das ordenadas\n",
        "plt.xlim(-3, 1); #configura limites de exibção das abscissas\n",
        "plt.ylabel('Imaginário'); #nome do eixo das ordenadas\n",
        "plt.xlabel('Real'); #nome do eixo das abscissas\n",
        "if len(polos) > 0: #verifica se há polos\n",
        "            plt.scatter(np.real(polos), np.imag(polos), s = 50, marker='x', facecolors='k') #marca os pólos no gráfico\n",
        "if len(zeros) > 0: #verifica se há zeros\n",
        "            plt.scatter(np.real(zeros), np.imag(zeros), s = 50, marker='o', facecolors='none', edgecolors='k') #marca os zeros no gráfico"
      ],
      "execution_count": null,
      "outputs": [
        {
          "output_type": "stream",
          "text": [
            "Polos = [-2. -1.]\n",
            "Zeros = [0.]\n"
          ],
          "name": "stdout"
        },
        {
          "output_type": "display_data",
          "data": {
            "image/png": "[encoded data removed]",
            "text/plain": [
              "<Figure size 432x288 with 1 Axes>"
            ]
          },
          "metadata": {
            "tags": [],
            "needs_background": "light"
          }
        }
      ]
    },
    {
      "cell_type": "markdown",
      "metadata": {
        "id": "5epKLTrDza32"
      },
      "source": [
        "#Resposta ao degrau no tempo"
      ]
    },
    {
      "cell_type": "code",
      "metadata": {
        "colab": {
          "base_uri": "https://localhost:8080/",
          "height": 304
        },
        "id": "7XUZebLpw4BI",
        "outputId": "670904ee-7a7d-44f1-80c5-5fb4647ff236"
      },
      "source": [
        "p = np.linspace(0,15,1000) #cria vetor de 0 a 15 com 1000 números entre eles -> [0,15[\n",
        "p1, y1 = co.step_response(G1, p) #computa a resposta ao degrau\n",
        "A = 2.4 #definindo valor da amplitude\n",
        "for i in range(len(y1)): \n",
        "  y1[i] *= A #multiplicando os valores da resposta ao degrau pela amplitude\n",
        "\n",
        "plt.plot(p1,y1, lw=3) #gera o gráfico\n",
        "plt.title('Resposta ao degrau', pad = 15) #define o título\n",
        "plt.xlabel('Tempo (s)') #atribui nome ao eixo das abscissas\n",
        "plt.ylabel('Amplitude (V)') #atribui nome ao eixo das ordenadas\n",
        "plt.ylim(min(y1) - .5, max(y1) + 1.5) #configura exibição do eixo das ordenadas\n",
        "plt.grid(1) #gera as linhas claras ao fundo marcando o grid"
      ],
      "execution_count": null,
      "outputs": [
        {
          "output_type": "display_data",
          "data": {
            "image/png": "[encoded data removed]",
            "text/plain": [
              "<Figure size 432x288 with 1 Axes>"
            ]
          },
          "metadata": {
            "tags": [],
            "needs_background": "light"
          }
        }
      ]
    }
  ]
}