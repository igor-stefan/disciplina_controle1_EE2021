{
  "nbformat": 4,
  "nbformat_minor": 0,
  "metadata": {
    "colab": {
      "name": "Projeto3_Controle_2021.1.ipynb",
      "provenance": [],
      "collapsed_sections": [],
      "authorship_tag": "ABX9TyMrnnJGZG4pfyBRjjXKh7LL",
      "include_colab_link": true
    },
    "kernelspec": {
      "name": "python3",
      "display_name": "Python 3"
    },
    "language_info": {
      "name": "python"
    }
  },
  "cells": [
    {
      "cell_type": "markdown",
      "metadata": {
        "id": "view-in-github",
        "colab_type": "text"
      },
      "source": [
        "<a href=\"https://colab.research.google.com/github/igor-stefan/disciplina_controle1_EE2021/blob/main/Projeto3_Controle_2021_1.ipynb\" target=\"_parent\"><img src=\"https://colab.research.google.com/assets/colab-badge.svg\" alt=\"Open In Colab\"/></a>"
      ]
    },
    {
      "cell_type": "code",
      "metadata": {
        "id": "txc4w9Y-E15N"
      },
      "source": [
        "!pip install control\n",
        "!pip install tbcontrol\n",
        "import control as co\n",
        "import numpy as np\n",
        "import matplotlib.pyplot as plt\n",
        "import sympy\n",
        "from tbcontrol.symbolic import routh"
      ],
      "execution_count": null,
      "outputs": []
    },
    {
      "cell_type": "markdown",
      "metadata": {
        "id": "1v_IwFdWFtsh"
      },
      "source": [
        "#Item a)\n",
        "Determinar a faixa de valores do ganho K do sistema em malha fechada, para que o sistema seja estável, instável e marginalmente estável.\n",
        "O sistema é: $$G(s) = \\frac{17.5}{s^2+5.25s+6.25}$$\n",
        "\n",
        "Em malha fechada:\n",
        "$$T(s) = \\frac{G(s)}{1+G(s)}$$\n",
        "\n",
        "Portanto:\n",
        "$$T(s) = \\frac{17.5}{s^2+5.25s+23.75}$$"
      ]
    },
    {
      "cell_type": "code",
      "metadata": {
        "colab": {
          "base_uri": "https://localhost:8080/",
          "height": 217
        },
        "id": "P41uZNFhFolu",
        "outputId": "ee606b7e-ab84-45bf-b946-b9c19c170678"
      },
      "source": [
        "#define quais variaveis serao utilizadas\n",
        "s = sympy.Symbol('s')\n",
        "K = sympy.Symbol('K')\n",
        "\n",
        "#Iniciando pela malha aberta\n",
        "C_s = K; #bloco anterior a FT com ganho K\n",
        "P_s = (17.5) / (s**2 + 5.25*s + 6.25); #bloco principal da FT\n",
        "G_s = (C_s * P_s) #calcula FT do circuito com a malha aberta\n",
        "\n",
        "#Fechando a malha\n",
        "H_s = 1; #bloco da realimentacao\n",
        "G1_s = sympy.cancel((G_s) / (1 + G_s * H_s)) #função 'cancel' cancela os fatores comuns\n",
        "print(\"Malha fechada G1(s) = \", (G1_s),'\\n') \n",
        "\n",
        "#obtem o denominador da FT malha fechada\n",
        "numG1_s, denG1_s = sympy.fraction(G1_s)\n",
        "\n",
        "#tabela de routh\n",
        "tab_routh = routh(sympy.poly(denG1_s,s))\n",
        "\n",
        "#resolve as equações para que cada elemento na primeira coluna seja > 0 em relacao a variavel K.\n",
        "K_estab = sympy.solve([e > 0 for e in tab_routh[:, 0]], K)\n",
        "print(\"\\nSistema estável se: \", K_estab);\n",
        "\n",
        "print(\" \\n\\nTabela de Routh:\\n\")\n",
        "routh(sympy.poly(denG1_s,s))"
      ],
      "execution_count": null,
      "outputs": [
        {
          "output_type": "stream",
          "name": "stdout",
          "text": [
            "Malha fechada G1(s) =  17.5*K/(17.5*K + 1.0*s**2 + 5.25*s + 6.25) \n",
            "\n",
            "\n",
            "Sistema estável se:  (-0.357142857142857 < K) & (K < oo)\n",
            " \n",
            "\n",
            "Tabela de Routh:\n",
            "\n"
          ]
        },
        {
          "output_type": "execute_result",
          "data": {
            "text/latex": "$\\displaystyle \\left[\\begin{matrix}1.0 & 17.5 K + 6.25\\\\5.25 & 0\\\\17.5 K + 6.25 & 0\\end{matrix}\\right]$",
            "text/plain": [
              "Matrix([\n",
              "[          1.0, 17.5*K + 6.25],\n",
              "[         5.25,             0],\n",
              "[17.5*K + 6.25,             0]])"
            ]
          },
          "metadata": {},
          "execution_count": 32
        }
      ]
    },
    {
      "cell_type": "markdown",
      "metadata": {
        "id": "L-xVTM3wQtLP"
      },
      "source": [
        "#Item b)\n",
        "Calcular as constantes de erro estático e o erro em regime permanente para as entradas do tipo degrau e rampa unitária. "
      ]
    },
    {
      "cell_type": "markdown",
      "metadata": {
        "id": "GrfhPh6-YdAB"
      },
      "source": [
        "#Degrau com amplitude 2.4"
      ]
    },
    {
      "cell_type": "code",
      "metadata": {
        "colab": {
          "base_uri": "https://localhost:8080/"
        },
        "id": "8J-Hkf1lQz9L",
        "outputId": "11396656-a1af-40af-a663-ae97e06395ac"
      },
      "source": [
        "s = sympy.Symbol('s') #para cálculos polinomiais\n",
        "G_s = (17.5) / (s**2 + 5.25*s + 6.25) #define a função de transferência\n",
        "degrau_s = 2.4/s #define o degrau com amplitude 2.4\n",
        "print(\"G(s) = {}\".format(G_s)) #imprime o sistema utilizado\n",
        "\n",
        "K_v = sympy.limit(G_s, s, 0) #calcula a constante de velocidade\n",
        "print(\"\\nConstante de velocidade (Kv): \", f'{K_v:.2f}')\n",
        "erro_rp_degrau = sympy.limit(s * degrau_s / (1 + G_s), s , 0) #calcula o erro em regime permanente com degrau em amplite 2.4\n",
        "print(\"\\nErro em regime permanente: \", f'{erro_rp_degrau:.3f}') #exibe"
      ],
      "execution_count": null,
      "outputs": [
        {
          "output_type": "stream",
          "name": "stdout",
          "text": [
            "G(s) = 17.5/(s**2 + 5.25*s + 6.25)\n",
            "\n",
            "Constante de velocidade (Kv):  2.80\n",
            "\n",
            "Erro em regime permanente:  0.632\n"
          ]
        }
      ]
    },
    {
      "cell_type": "code",
      "metadata": {
        "colab": {
          "base_uri": "https://localhost:8080/",
          "height": 299
        },
        "id": "h-k8S5m4SG9k",
        "outputId": "f14ae913-8af5-4f07-b1a8-ff1cb7b8c468"
      },
      "source": [
        "#cria a função de transferência em malha aberta para simulação\n",
        "s = co.tf('s') #define variavel s\n",
        "G_s = (17.5) / (s**2 + 5.25*s + 6.25) #função de transferência\n",
        "#print(\"G(s) = {}\".format(G_s)) \n",
        "\n",
        "#Na malha fechada\n",
        "T_s = (2.4 * G_s) / (1 + G_s) #coloca a amplitude do degrau por ser constante\n",
        "t = 10 #tempo de simulacao 10s\n",
        "\n",
        "#calcula a resposta ao degrau\n",
        "T_mf, y_mf = co.step_response(T_s, t) \n",
        "\n",
        "#calcula um degrau unitário\n",
        "T2 = np.linspace(-1., t, 1000) #entre -1 e t são colocados 1000 números\n",
        "degrau = np.ones_like(T2) #cria um array de \"uns\"\n",
        "degrau[T2 < 0] = 0 #valores menores que zero recebem 0\n",
        "degrau[T2 > 0] *= 2.4 #amplitude correta do degrau para o grafico da propria funcao degrau\n",
        "\n",
        "#plota os resultados\n",
        "plt.plot(T_mf, y_mf, \"b-\") #em azul resposta ao degrau\n",
        "plt.plot(T2, degrau, 'r-') #em vermelho degrau\n",
        "plt.xlabel('tempo (s)')\n",
        "plt.ylabel('amplitude (V)')\n",
        "plt.grid()\n",
        "plt.legend(['resposta em malha fechada','degrau com amplitude 2.4'])\n",
        "plt.title(\"Resposta em Malha Fechada vs Sinal Degrau\", pad = 10)\n",
        "plt.show()\n"
      ],
      "execution_count": null,
      "outputs": [
        {
          "output_type": "display_data",
          "data": {
            "image/png": "[encoded data removed]",
            "text/plain": [
              "<Figure size 432x288 with 1 Axes>"
            ]
          },
          "metadata": {
            "needs_background": "light"
          }
        }
      ]
    },
    {
      "cell_type": "markdown",
      "metadata": {
        "id": "uk-aq80iYhT2"
      },
      "source": [
        "#Rampa unitária"
      ]
    },
    {
      "cell_type": "code",
      "metadata": {
        "colab": {
          "base_uri": "https://localhost:8080/"
        },
        "id": "F-YFszN3YknM",
        "outputId": "19d076be-dd88-406a-b6ca-b15c488f269b"
      },
      "source": [
        "s = sympy.Symbol('s') #para calculo analitico\n",
        "G_s = (17.5) / (s**2 + 5.25*s + 6.25) #funcao de transferencia\n",
        "rampa_s = 1/s**2 #rampa\n",
        "print(\"G(s) = {}\".format(G_s)) #imprime o sistema utilizado\n",
        "K_p = sympy.limit(s*G_s, s, 0)\n",
        "print(\"\\nConstante de posição (Kp): \", K_p)\n",
        "erro_rp_rampa = sympy.limit(s*rampa_s*(1/ (1 + G_s)) , s , 0) #calcula o erro em regime permanente para rampa na entrada\n",
        "print(\"\\nErro em regime permanente: {}\".format(erro_rp_rampa))"
      ],
      "execution_count": null,
      "outputs": [
        {
          "output_type": "stream",
          "name": "stdout",
          "text": [
            "G(s) = 17.5/(s**2 + 5.25*s + 6.25)\n",
            "\n",
            "Constante de posição (Kp):  0\n",
            "\n",
            "Erro em regime permanente: oo\n"
          ]
        }
      ]
    },
    {
      "cell_type": "code",
      "metadata": {
        "colab": {
          "base_uri": "https://localhost:8080/",
          "height": 299
        },
        "id": "tlTzL7a9bNAa",
        "outputId": "c20d5b09-7382-4fb4-d93e-d53f63c617be"
      },
      "source": [
        "#cria a função de transferência em malha aberta para simulacao\n",
        "s = co.tf('s')\n",
        "G_s = (17.5) / (s**2 + 5.25*s + 6.25)\n",
        "#print(\"G(s) = {}\".format(G_s))\n",
        "\n",
        "#Na malha fechada\n",
        "T_s = (1/s)*(G_s) / (1 + G_s) #ja multiplica pelo degrau, pois a funcao em sequencia calcula a resposta ao degrau\n",
        "t = 20 #tempo de simulacao 20s\n",
        "\n",
        "#calcula a resposta ao degrau (neste caso da rampa, pois a FT já foi multiplicada por 1/s)\n",
        "T_mf, y_mf = co.step_response(T_s, t)\n",
        "\n",
        "#gera um vetor rampa\n",
        "T2 = np.linspace(-1., t, 1000) #entre -1 e t são colocados 1000 números\n",
        "rampa = T2 #atribui o vetor criado à rampa\n",
        "rampa[T2 < 0] = 0 #valores menores que zero recebem 0 (sao desconsiderados na simulação)\n",
        "\n",
        "#plota os resultados\n",
        "plt.plot(T_mf, y_mf, \"b-\") #em azul a resposta a rampa\n",
        "plt.plot(T2, rampa, 'r-') #em vermelho a rampa\n",
        "plt.xlabel('tempo (s)')\n",
        "plt.ylabel('amplitude (V)')\n",
        "plt.grid()\n",
        "plt.legend(['resposta em malha fechada','rampa unitária'])\n",
        "plt.title(\"Resposta em Malha Fechada vs Sinal Rampa\", pad = 10)\n",
        "plt.show()"
      ],
      "execution_count": null,
      "outputs": [
        {
          "output_type": "display_data",
          "data": {
            "image/png": "[encoded data removed]",
            "text/plain": [
              "<Figure size 432x288 with 1 Axes>"
            ]
          },
          "metadata": {
            "needs_background": "light"
          }
        }
      ]
    }
  ]
}